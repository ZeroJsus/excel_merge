{
 "cells": [
  {
   "cell_type": "code",
   "execution_count": 1,
   "metadata": {},
   "outputs": [],
   "source": [
    "import readAndWrite\n",
    "openexcel = readAndWrite.ReadExcel(file_name='./demo1.xls',sheet_id=0)\n",
    "openexcel2 = readAndWrite.ReadExcel(file_name='./demo2.xls',sheet_id=0)\n",
    "write_excel = readAndWrite.WriteExcel('第一张表')\n",
    "\n",
    "for i in range(1,openexcel.get_lines()):\n",
    "    #将目标表格的姓名拷贝在整理的表格中\n",
    "    write_excel.write_values(i, 0, openexcel.get_value(i,0))\n",
    "    #将身份证号码中的生日提取出来\n",
    "    birthday = openexcel.get_value(i,1)\n",
    "    #将生日写入到目标表格中\n",
    "    write_excel.write_values(i,1,birthday)\n",
    "\n",
    "write_excel.add_sheet('第二张表')\n",
    "\n",
    "for i in range(1,openexcel2.get_lines()):\n",
    "    #将目标表格的姓名拷贝在整理的表格中\n",
    "    write_excel.write_values(i, 0, openexcel2.get_value(i,0))\n",
    "    #将身份证号码中的生日提取出来\n",
    "    birthday = openexcel2.get_value(i,1)\n",
    "    #将生日写入到目标表格中\n",
    "    write_excel.write_values(i,1,birthday)\n",
    "\n",
    "write_excel.save_file(filename=\"total.xls\")"
   ]
  }
 ],
 "metadata": {
  "interpreter": {
   "hash": "31f2aee4e71d21fbe5cf8b01ff0e069b9275f58929596ceb00d14d90e3e16cd6"
  },
  "kernelspec": {
   "display_name": "Python 3.8.9 64-bit",
   "language": "python",
   "name": "python3"
  },
  "language_info": {
   "codemirror_mode": {
    "name": "ipython",
    "version": 3
   },
   "file_extension": ".py",
   "mimetype": "text/x-python",
   "name": "python",
   "nbconvert_exporter": "python",
   "pygments_lexer": "ipython3",
   "version": "3.8.9"
  },
  "orig_nbformat": 4
 },
 "nbformat": 4,
 "nbformat_minor": 2
}
